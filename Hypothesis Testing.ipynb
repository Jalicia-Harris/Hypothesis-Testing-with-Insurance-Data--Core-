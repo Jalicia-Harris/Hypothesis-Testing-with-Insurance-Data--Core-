{
 "cells": [
  {
   "cell_type": "markdown",
   "id": "0f30b0f0",
   "metadata": {},
   "source": [
    "# Hypothesis Testing with Insurance Data (Core)\n",
    "For this assignment, we will be working with the US Health Insurance Dataset from Kaggle.\n",
    "\n",
    "We have been asked to use our hypothesis testing skills to answer the following questions:\n",
    "\n",
    "- Q1. Do smokers have higher insurance charges than non-smokers?\n",
    "- Q2. Are men more likely to smoke than women?\n",
    "- Q3. Do different regions have different charges, on average?"
   ]
  },
  {
   "cell_type": "markdown",
   "id": "c452e530",
   "metadata": {},
   "source": [
    "### Imports"
   ]
  },
  {
   "cell_type": "code",
   "execution_count": 1,
   "id": "c22739af",
   "metadata": {},
   "outputs": [],
   "source": [
    "import pandas as pd\n",
    "import numpy as np\n",
    "import matplotlib.pyplot as plt\n",
    "import seaborn as sns\n",
    "import scipy.stats as stats"
   ]
  },
  {
   "cell_type": "markdown",
   "id": "ffa89c37",
   "metadata": {},
   "source": [
    "### Load the data"
   ]
  },
  {
   "cell_type": "code",
   "execution_count": 2,
   "id": "2b9fa28f",
   "metadata": {},
   "outputs": [
    {
     "data": {
      "text/html": [
       "<div>\n",
       "<style scoped>\n",
       "    .dataframe tbody tr th:only-of-type {\n",
       "        vertical-align: middle;\n",
       "    }\n",
       "\n",
       "    .dataframe tbody tr th {\n",
       "        vertical-align: top;\n",
       "    }\n",
       "\n",
       "    .dataframe thead th {\n",
       "        text-align: right;\n",
       "    }\n",
       "</style>\n",
       "<table border=\"1\" class=\"dataframe\">\n",
       "  <thead>\n",
       "    <tr style=\"text-align: right;\">\n",
       "      <th></th>\n",
       "      <th>age</th>\n",
       "      <th>sex</th>\n",
       "      <th>bmi</th>\n",
       "      <th>children</th>\n",
       "      <th>smoker</th>\n",
       "      <th>region</th>\n",
       "      <th>charges</th>\n",
       "    </tr>\n",
       "  </thead>\n",
       "  <tbody>\n",
       "    <tr>\n",
       "      <th>0</th>\n",
       "      <td>19</td>\n",
       "      <td>female</td>\n",
       "      <td>27.900</td>\n",
       "      <td>0</td>\n",
       "      <td>yes</td>\n",
       "      <td>southwest</td>\n",
       "      <td>16884.92400</td>\n",
       "    </tr>\n",
       "    <tr>\n",
       "      <th>1</th>\n",
       "      <td>18</td>\n",
       "      <td>male</td>\n",
       "      <td>33.770</td>\n",
       "      <td>1</td>\n",
       "      <td>no</td>\n",
       "      <td>southeast</td>\n",
       "      <td>1725.55230</td>\n",
       "    </tr>\n",
       "    <tr>\n",
       "      <th>2</th>\n",
       "      <td>28</td>\n",
       "      <td>male</td>\n",
       "      <td>33.000</td>\n",
       "      <td>3</td>\n",
       "      <td>no</td>\n",
       "      <td>southeast</td>\n",
       "      <td>4449.46200</td>\n",
       "    </tr>\n",
       "    <tr>\n",
       "      <th>3</th>\n",
       "      <td>33</td>\n",
       "      <td>male</td>\n",
       "      <td>22.705</td>\n",
       "      <td>0</td>\n",
       "      <td>no</td>\n",
       "      <td>northwest</td>\n",
       "      <td>21984.47061</td>\n",
       "    </tr>\n",
       "    <tr>\n",
       "      <th>4</th>\n",
       "      <td>32</td>\n",
       "      <td>male</td>\n",
       "      <td>28.880</td>\n",
       "      <td>0</td>\n",
       "      <td>no</td>\n",
       "      <td>northwest</td>\n",
       "      <td>3866.85520</td>\n",
       "    </tr>\n",
       "  </tbody>\n",
       "</table>\n",
       "</div>"
      ],
      "text/plain": [
       "   age     sex     bmi  children smoker     region      charges\n",
       "0   19  female  27.900         0    yes  southwest  16884.92400\n",
       "1   18    male  33.770         1     no  southeast   1725.55230\n",
       "2   28    male  33.000         3     no  southeast   4449.46200\n",
       "3   33    male  22.705         0     no  northwest  21984.47061\n",
       "4   32    male  28.880         0     no  northwest   3866.85520"
      ]
     },
     "execution_count": 2,
     "metadata": {},
     "output_type": "execute_result"
    }
   ],
   "source": [
    "df = pd.read_csv('Data/insurance - insurance.csv')\n",
    "df.head()"
   ]
  },
  {
   "cell_type": "markdown",
   "id": "823526f9",
   "metadata": {},
   "source": [
    "# Q1. Do smokers have higher insurance charges than non-smokers?"
   ]
  },
  {
   "cell_type": "markdown",
   "id": "cf61c6f9",
   "metadata": {},
   "source": [
    "## 1. State your Null Hypothesis and Alternative Hypothesis"
   ]
  },
  {
   "cell_type": "markdown",
   "id": "4f489d12",
   "metadata": {},
   "source": [
    "- Null Hypothesis: There is no difference in insurance charges between smokers and non-smokers.\n",
    "- Alternative Hypothesis: There is a significant difference in insurance charges between smokers and non-smokers."
   ]
  },
  {
   "cell_type": "markdown",
   "id": "699a75a5",
   "metadata": {},
   "source": [
    "## 2. Select the correct test according to the data type and number of samples"
   ]
  },
  {
   "cell_type": "markdown",
   "id": "956284dd",
   "metadata": {},
   "source": [
    "- Numeric\n",
    "- Two groups/ samples\n",
    "- 2-sample T-Test will be run"
   ]
  },
  {
   "cell_type": "markdown",
   "id": "8ac86d15",
   "metadata": {},
   "source": [
    "### Explore and separate data for hypothesis"
   ]
  },
  {
   "cell_type": "code",
   "execution_count": 3,
   "id": "b0867990",
   "metadata": {},
   "outputs": [
    {
     "data": {
      "text/plain": [
       "no     1064\n",
       "yes     274\n",
       "Name: smoker, dtype: int64"
      ]
     },
     "execution_count": 3,
     "metadata": {},
     "output_type": "execute_result"
    }
   ],
   "source": [
    "# See how many are smokers and non-smokers\n",
    "df['smoker'].value_counts()"
   ]
  },
  {
   "cell_type": "code",
   "execution_count": 8,
   "id": "32f753cd",
   "metadata": {},
   "outputs": [],
   "source": [
    "# Create filter for smokers and non-smokers\n",
    "smoker_df = df.loc[df['smoker']=='yes'].copy()\n",
    "non_smoker_df = df.loc[df['smoker']=='no'].copy()"
   ]
  },
  {
   "cell_type": "code",
   "execution_count": 10,
   "id": "277babc2",
   "metadata": {},
   "outputs": [
    {
     "data": {
      "text/html": [
       "<div>\n",
       "<style scoped>\n",
       "    .dataframe tbody tr th:only-of-type {\n",
       "        vertical-align: middle;\n",
       "    }\n",
       "\n",
       "    .dataframe tbody tr th {\n",
       "        vertical-align: top;\n",
       "    }\n",
       "\n",
       "    .dataframe thead th {\n",
       "        text-align: right;\n",
       "    }\n",
       "</style>\n",
       "<table border=\"1\" class=\"dataframe\">\n",
       "  <thead>\n",
       "    <tr style=\"text-align: right;\">\n",
       "      <th></th>\n",
       "      <th>age</th>\n",
       "      <th>sex</th>\n",
       "      <th>bmi</th>\n",
       "      <th>children</th>\n",
       "      <th>smoker</th>\n",
       "      <th>region</th>\n",
       "      <th>charges</th>\n",
       "    </tr>\n",
       "  </thead>\n",
       "  <tbody>\n",
       "    <tr>\n",
       "      <th>0</th>\n",
       "      <td>19</td>\n",
       "      <td>female</td>\n",
       "      <td>27.90</td>\n",
       "      <td>0</td>\n",
       "      <td>yes</td>\n",
       "      <td>southwest</td>\n",
       "      <td>16884.9240</td>\n",
       "    </tr>\n",
       "    <tr>\n",
       "      <th>11</th>\n",
       "      <td>62</td>\n",
       "      <td>female</td>\n",
       "      <td>26.29</td>\n",
       "      <td>0</td>\n",
       "      <td>yes</td>\n",
       "      <td>southeast</td>\n",
       "      <td>27808.7251</td>\n",
       "    </tr>\n",
       "    <tr>\n",
       "      <th>14</th>\n",
       "      <td>27</td>\n",
       "      <td>male</td>\n",
       "      <td>42.13</td>\n",
       "      <td>0</td>\n",
       "      <td>yes</td>\n",
       "      <td>southeast</td>\n",
       "      <td>39611.7577</td>\n",
       "    </tr>\n",
       "    <tr>\n",
       "      <th>19</th>\n",
       "      <td>30</td>\n",
       "      <td>male</td>\n",
       "      <td>35.30</td>\n",
       "      <td>0</td>\n",
       "      <td>yes</td>\n",
       "      <td>southwest</td>\n",
       "      <td>36837.4670</td>\n",
       "    </tr>\n",
       "    <tr>\n",
       "      <th>23</th>\n",
       "      <td>34</td>\n",
       "      <td>female</td>\n",
       "      <td>31.92</td>\n",
       "      <td>1</td>\n",
       "      <td>yes</td>\n",
       "      <td>northeast</td>\n",
       "      <td>37701.8768</td>\n",
       "    </tr>\n",
       "    <tr>\n",
       "      <th>...</th>\n",
       "      <td>...</td>\n",
       "      <td>...</td>\n",
       "      <td>...</td>\n",
       "      <td>...</td>\n",
       "      <td>...</td>\n",
       "      <td>...</td>\n",
       "      <td>...</td>\n",
       "    </tr>\n",
       "    <tr>\n",
       "      <th>1332</th>\n",
       "      <td>52</td>\n",
       "      <td>female</td>\n",
       "      <td>44.70</td>\n",
       "      <td>3</td>\n",
       "      <td>no</td>\n",
       "      <td>southwest</td>\n",
       "      <td>11411.6850</td>\n",
       "    </tr>\n",
       "    <tr>\n",
       "      <th>1333</th>\n",
       "      <td>50</td>\n",
       "      <td>male</td>\n",
       "      <td>30.97</td>\n",
       "      <td>3</td>\n",
       "      <td>no</td>\n",
       "      <td>northwest</td>\n",
       "      <td>10600.5483</td>\n",
       "    </tr>\n",
       "    <tr>\n",
       "      <th>1334</th>\n",
       "      <td>18</td>\n",
       "      <td>female</td>\n",
       "      <td>31.92</td>\n",
       "      <td>0</td>\n",
       "      <td>no</td>\n",
       "      <td>northeast</td>\n",
       "      <td>2205.9808</td>\n",
       "    </tr>\n",
       "    <tr>\n",
       "      <th>1335</th>\n",
       "      <td>18</td>\n",
       "      <td>female</td>\n",
       "      <td>36.85</td>\n",
       "      <td>0</td>\n",
       "      <td>no</td>\n",
       "      <td>southeast</td>\n",
       "      <td>1629.8335</td>\n",
       "    </tr>\n",
       "    <tr>\n",
       "      <th>1336</th>\n",
       "      <td>21</td>\n",
       "      <td>female</td>\n",
       "      <td>25.80</td>\n",
       "      <td>0</td>\n",
       "      <td>no</td>\n",
       "      <td>southwest</td>\n",
       "      <td>2007.9450</td>\n",
       "    </tr>\n",
       "  </tbody>\n",
       "</table>\n",
       "<p>1338 rows × 7 columns</p>\n",
       "</div>"
      ],
      "text/plain": [
       "      age     sex    bmi  children smoker     region     charges\n",
       "0      19  female  27.90         0    yes  southwest  16884.9240\n",
       "11     62  female  26.29         0    yes  southeast  27808.7251\n",
       "14     27    male  42.13         0    yes  southeast  39611.7577\n",
       "19     30    male  35.30         0    yes  southwest  36837.4670\n",
       "23     34  female  31.92         1    yes  northeast  37701.8768\n",
       "...   ...     ...    ...       ...    ...        ...         ...\n",
       "1332   52  female  44.70         3     no  southwest  11411.6850\n",
       "1333   50    male  30.97         3     no  northwest  10600.5483\n",
       "1334   18  female  31.92         0     no  northeast   2205.9808\n",
       "1335   18  female  36.85         0     no  southeast   1629.8335\n",
       "1336   21  female  25.80         0     no  southwest   2007.9450\n",
       "\n",
       "[1338 rows x 7 columns]"
      ]
     },
     "execution_count": 10,
     "metadata": {},
     "output_type": "execute_result"
    }
   ],
   "source": [
    "# Make a df just for visualization by concat the groups\n",
    "plot_df = pd.concat([smoker_df, non_smoker_df])\n",
    "plot_df"
   ]
  },
  {
   "cell_type": "code",
   "execution_count": 9,
   "id": "c259c86a",
   "metadata": {},
   "outputs": [],
   "source": [
    "# Define the feature of interest\n",
    "smoker_charges = smoker_df['charges']\n",
    "non_smoker_charges = non_smoker_df['charges']"
   ]
  },
  {
   "cell_type": "code",
   "execution_count": 11,
   "id": "78cb7549",
   "metadata": {},
   "outputs": [
    {
     "data": {
      "image/png": "[encoded data removed]",
      "text/plain": [
       "<Figure size 640x480 with 1 Axes>"
      ]
     },
     "metadata": {},
     "output_type": "display_data"
    }
   ],
   "source": [
    "# Visualize the group means\n",
    "sns.barplot(data=df, x='smoker', y='charges');"
   ]
  },
  {
   "cell_type": "markdown",
   "id": "5495f3a7",
   "metadata": {},
   "source": [
    "## 3. Test the assumptions of your selected test."
   ]
  },
  {
   "cell_type": "markdown",
   "id": "8774f361",
   "metadata": {},
   "source": [
    "### Test Assumptions\n",
    "- No significant outliers\n",
    "- Normality\n",
    "- Equal Variance"
   ]
  },
  {
   "cell_type": "markdown",
   "id": "7e9381a7",
   "metadata": {},
   "source": [
    "#### Check for and remove outliers"
   ]
  },
  {
   "cell_type": "code",
   "execution_count": 12,
   "id": "1fe50a26",
   "metadata": {},
   "outputs": [
    {
     "data": {
      "text/plain": [
       "0"
      ]
     },
     "execution_count": 12,
     "metadata": {},
     "output_type": "execute_result"
    }
   ],
   "source": [
    "# Check for outliers in charges for smoker group\n",
    "smoker_outliers = np.abs(stats.zscore(smoker_charges)) > 3\n",
    "smoker_outliers.sum()"
   ]
  },
  {
   "cell_type": "markdown",
   "id": "4b52c135",
   "metadata": {},
   "source": [
    "- No outliers are found in the smoker group."
   ]
  },
  {
   "cell_type": "code",
   "execution_count": 13,
   "id": "aab32325",
   "metadata": {},
   "outputs": [
    {
     "data": {
      "text/plain": [
       "24"
      ]
     },
     "execution_count": 13,
     "metadata": {},
     "output_type": "execute_result"
    }
   ],
   "source": [
    "# Check for outliers in charges for non-smoker group\n",
    "non_smoker_outliers = np.abs(stats.zscore(non_smoker_charges)) > 3 \n",
    "non_smoker_outliers.sum()"
   ]
  },
  {
   "cell_type": "code",
   "execution_count": 14,
   "id": "0d5dcb70",
   "metadata": {},
   "outputs": [],
   "source": [
    "# Remove outliers from non_smoker group ONCE!\n",
    "non_smoker_charges = non_smoker_charges[(np.abs(stats.zscore(non_smoker_charges)) < 3)]"
   ]
  },
  {
   "cell_type": "markdown",
   "id": "0fecbcfb",
   "metadata": {},
   "source": [
    "#### Test for Normality"
   ]
  },
  {
   "cell_type": "code",
   "execution_count": 15,
   "id": "74ba021e",
   "metadata": {},
   "outputs": [
    {
     "data": {
      "text/plain": [
       "NormaltestResult(statistic=61.03941356533816, pvalue=5.564930630036463e-14)"
      ]
     },
     "execution_count": 15,
     "metadata": {},
     "output_type": "execute_result"
    }
   ],
   "source": [
    "# Test smoker group for normality\n",
    "result_smoker = stats.normaltest(smoker_charges)\n",
    "result_smoker"
   ]
  },
  {
   "cell_type": "code",
   "execution_count": 17,
   "id": "d629b806",
   "metadata": {},
   "outputs": [
    {
     "data": {
      "text/plain": [
       "274"
      ]
     },
     "execution_count": 17,
     "metadata": {},
     "output_type": "execute_result"
    }
   ],
   "source": [
    "# Check n for smoker group\n",
    "len(smoker_charges)"
   ]
  },
  {
   "cell_type": "code",
   "execution_count": 16,
   "id": "9f97f935",
   "metadata": {},
   "outputs": [
    {
     "data": {
      "text/plain": [
       "NormaltestResult(statistic=163.80367047789198, pvalue=2.6945416315543976e-36)"
      ]
     },
     "execution_count": 16,
     "metadata": {},
     "output_type": "execute_result"
    }
   ],
   "source": [
    "result_non_smoker = stats.normaltest(non_smoker_charges)\n",
    "result_non_smoker"
   ]
  },
  {
   "cell_type": "code",
   "execution_count": 18,
   "id": "a508883e",
   "metadata": {},
   "outputs": [
    {
     "data": {
      "text/plain": [
       "1040"
      ]
     },
     "execution_count": 18,
     "metadata": {},
     "output_type": "execute_result"
    }
   ],
   "source": [
    "# Check n for non-smoker group\n",
    "len(non_smoker_charges)"
   ]
  },
  {
   "cell_type": "markdown",
   "id": "1d0d30be",
   "metadata": {},
   "source": [
    "- There is a large enough sample size to safely disregard the assumption of normality."
   ]
  },
  {
   "cell_type": "markdown",
   "id": "c5be4e81",
   "metadata": {},
   "source": [
    "#### Check for Equal Variance"
   ]
  },
  {
   "cell_type": "code",
   "execution_count": 19,
   "id": "67ecfc9c",
   "metadata": {},
   "outputs": [
    {
     "data": {
      "text/plain": [
       "LeveneResult(statistic=520.7468821724297, pvalue=2.4247238784347824e-97)"
      ]
     },
     "execution_count": 19,
     "metadata": {},
     "output_type": "execute_result"
    }
   ],
   "source": [
    "# Test for equal variance\n",
    "result = stats.levene(smoker_charges, non_smoker_charges)\n",
    "result"
   ]
  },
  {
   "cell_type": "markdown",
   "id": "23e42676",
   "metadata": {},
   "source": [
    "- We met the assumption of normality but did NOT meet the assumption of equal variance. \n",
    "- We will therefore run a Welch's t-test instead by adding `equal_var=False` to `stats.ttest_ind`"
   ]
  },
  {
   "cell_type": "markdown",
   "id": "404ccceb",
   "metadata": {},
   "source": [
    "## 4. Execute the selected test, or the alternative test (if you do not meet the assumptions)"
   ]
  },
  {
   "cell_type": "code",
   "execution_count": 21,
   "id": "b2a0b646",
   "metadata": {},
   "outputs": [
    {
     "name": "stdout",
     "output_type": "stream",
     "text": [
      "Ttest_indResult(statistic=51.2078044173717, pvalue=3.68768124e-315)\n"
     ]
    },
    {
     "data": {
      "text/plain": [
       "True"
      ]
     },
     "execution_count": 21,
     "metadata": {},
     "output_type": "execute_result"
    }
   ],
   "source": [
    "result = stats.ttest_ind(smoker_charges, non_smoker_charges)\n",
    "print(result)\n",
    "result.pvalue < .05"
   ]
  },
  {
   "cell_type": "markdown",
   "id": "53b33c6a",
   "metadata": {},
   "source": [
    "## 5. Interpret your p-value and reject or fail to reject your null hypothesis \n"
   ]
  },
  {
   "cell_type": "markdown",
   "id": "11b116dd",
   "metadata": {},
   "source": [
    "We had a p-value < .05 for our Welch's t-test. We reject the null hypothesis and support the alternative that a significant difference in insurance charges between smokers and non-smokers."
   ]
  },
  {
   "cell_type": "markdown",
   "id": "65ed211a",
   "metadata": {},
   "source": [
    "## 6. Show a supporting visualization that helps display the result\n"
   ]
  },
  {
   "cell_type": "code",
   "execution_count": null,
   "id": "cbad2ff5",
   "metadata": {},
   "outputs": [],
   "source": [
    "# "
   ]
  },
  {
   "cell_type": "code",
   "execution_count": null,
   "id": "742fc8b9",
   "metadata": {},
   "outputs": [],
   "source": []
  },
  {
   "cell_type": "code",
   "execution_count": null,
   "id": "1807e56d",
   "metadata": {},
   "outputs": [],
   "source": []
  },
  {
   "cell_type": "code",
   "execution_count": null,
   "id": "6add059f",
   "metadata": {},
   "outputs": [],
   "source": []
  },
  {
   "cell_type": "markdown",
   "id": "f0fc1837",
   "metadata": {
    "heading_collapsed": true
   },
   "source": [
    "## Q2. Are men more likely to smoke than women?"
   ]
  },
  {
   "cell_type": "markdown",
   "id": "c3bd80f2",
   "metadata": {
    "hidden": true
   },
   "source": [
    "### 1. State your Null Hypothesis and Alternative Hypothesis"
   ]
  },
  {
   "cell_type": "markdown",
   "id": "4af50415",
   "metadata": {
    "hidden": true
   },
   "source": [
    "- Null Hypothesis:\n",
    "- Alternative Hypothesis:"
   ]
  },
  {
   "cell_type": "markdown",
   "id": "f7884261",
   "metadata": {
    "hidden": true
   },
   "source": [
    "### 2. Select the correct test according to the data type and number of samples"
   ]
  },
  {
   "cell_type": "code",
   "execution_count": null,
   "id": "f5ce38d2",
   "metadata": {
    "hidden": true
   },
   "outputs": [],
   "source": []
  },
  {
   "cell_type": "markdown",
   "id": "a2468320",
   "metadata": {
    "hidden": true
   },
   "source": [
    "### 3. Test the assumptions of your selected test."
   ]
  },
  {
   "cell_type": "code",
   "execution_count": null,
   "id": "f54803d8",
   "metadata": {
    "hidden": true
   },
   "outputs": [],
   "source": []
  },
  {
   "cell_type": "markdown",
   "id": "a9cf0f21",
   "metadata": {
    "hidden": true
   },
   "source": [
    "### 4. Execute the selected test, or the alternative test (if you do not meet the assumptions)\n"
   ]
  },
  {
   "cell_type": "code",
   "execution_count": null,
   "id": "e3800a03",
   "metadata": {
    "hidden": true
   },
   "outputs": [],
   "source": []
  },
  {
   "cell_type": "markdown",
   "id": "c9f4c0e7",
   "metadata": {
    "hidden": true
   },
   "source": [
    "### 5. Interpret your p-value and reject or fail to reject your null hypothesis \n"
   ]
  },
  {
   "cell_type": "code",
   "execution_count": null,
   "id": "346d7662",
   "metadata": {
    "hidden": true
   },
   "outputs": [],
   "source": []
  },
  {
   "cell_type": "markdown",
   "id": "cc2d9674",
   "metadata": {
    "hidden": true
   },
   "source": [
    "### 6. Show a supporting visualization that helps display the result\n"
   ]
  },
  {
   "cell_type": "code",
   "execution_count": null,
   "id": "11254b29",
   "metadata": {
    "hidden": true
   },
   "outputs": [],
   "source": []
  },
  {
   "cell_type": "markdown",
   "id": "32883822",
   "metadata": {},
   "source": [
    "## Q3. Do different regions have different charges, on average?"
   ]
  },
  {
   "cell_type": "markdown",
   "id": "4517543d",
   "metadata": {},
   "source": [
    "### 1. State your Null Hypothesis and Alternative Hypothesis"
   ]
  },
  {
   "cell_type": "markdown",
   "id": "1b3e9ea7",
   "metadata": {},
   "source": [
    "- Null Hypothesis:\n",
    "- Alternative Hypothesis:"
   ]
  },
  {
   "cell_type": "markdown",
   "id": "20030336",
   "metadata": {},
   "source": [
    "### 2. Select the correct test according to the data type and number of samples"
   ]
  },
  {
   "cell_type": "code",
   "execution_count": null,
   "id": "45948e2c",
   "metadata": {},
   "outputs": [],
   "source": []
  },
  {
   "cell_type": "markdown",
   "id": "eb4dc824",
   "metadata": {},
   "source": [
    "### 3. Test the assumptions of your selected test."
   ]
  },
  {
   "cell_type": "code",
   "execution_count": null,
   "id": "586baa2b",
   "metadata": {},
   "outputs": [],
   "source": []
  },
  {
   "cell_type": "markdown",
   "id": "e673b0a6",
   "metadata": {},
   "source": [
    "### 4. Execute the selected test, or the alternative test (if you do not meet the assumptions)\n"
   ]
  },
  {
   "cell_type": "code",
   "execution_count": null,
   "id": "530037ef",
   "metadata": {},
   "outputs": [],
   "source": []
  },
  {
   "cell_type": "markdown",
   "id": "f7d58fe1",
   "metadata": {},
   "source": [
    "### 5. Interpret your p-value and reject or fail to reject your null hypothesis \n"
   ]
  },
  {
   "cell_type": "code",
   "execution_count": null,
   "id": "199f5283",
   "metadata": {},
   "outputs": [],
   "source": []
  },
  {
   "cell_type": "markdown",
   "id": "ccba2753",
   "metadata": {},
   "source": [
    "### 6. Show a supporting visualization that helps display the result\n"
   ]
  },
  {
   "cell_type": "code",
   "execution_count": null,
   "id": "e5c2a175",
   "metadata": {},
   "outputs": [],
   "source": []
  },
  {
   "cell_type": "code",
   "execution_count": null,
   "id": "abfe248b",
   "metadata": {},
   "outputs": [],
   "source": []
  },
  {
   "cell_type": "code",
   "execution_count": null,
   "id": "bbc4fdcb",
   "metadata": {},
   "outputs": [],
   "source": []
  }
 ],
 "metadata": {
  "kernelspec": {
   "display_name": "Python 3 (ipykernel)",
   "language": "python",
   "name": "python3"
  },
  "language_info": {
   "codemirror_mode": {
    "name": "ipython",
    "version": 3
   },
   "file_extension": ".py",
   "mimetype": "text/x-python",
   "name": "python",
   "nbconvert_exporter": "python",
   "pygments_lexer": "ipython3",
   "version": "3.9.15"
  },
  "toc": {
   "base_numbering": 1,
   "nav_menu": {},
   "number_sections": false,
   "sideBar": true,
   "skip_h1_title": false,
   "title_cell": "Table of Contents",
   "title_sidebar": "Contents",
   "toc_cell": false,
   "toc_position": {},
   "toc_section_display": true,
   "toc_window_display": false
  }
 },
 "nbformat": 4,
 "nbformat_minor": 5
}
